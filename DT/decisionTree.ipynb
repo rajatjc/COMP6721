{
 "cells": [
  {
   "cell_type": "code",
   "execution_count": 1,
   "metadata": {
    "ExecuteTime": {
     "end_time": "2023-06-22T03:11:34.608459635Z",
     "start_time": "2023-06-22T03:11:34.450885019Z"
    }
   },
   "outputs": [],
   "source": [
    "import numpy as np\n",
    "import pandas as pd\n",
    "import os\n",
    "import csv\n",
    "import cv2 as cv"
   ]
  },
  {
   "cell_type": "code",
   "execution_count": 2,
   "metadata": {
    "ExecuteTime": {
     "end_time": "2023-06-22T03:11:34.654131917Z",
     "start_time": "2023-06-22T03:11:34.609129041Z"
    }
   },
   "outputs": [],
   "source": [
    "# Read the file containing image labels\n",
    "file_path_label = '../../diabetic/Diabetic-Retinopathy-Detection/archive/trainLabels_cropped.csv'\n",
    "home_data_label = pd.read_csv(file_path_label)\n"
   ]
  },
  {
   "cell_type": "code",
   "execution_count": 3,
   "metadata": {
    "ExecuteTime": {
     "end_time": "2023-06-22T03:11:34.654466847Z",
     "start_time": "2023-06-22T03:11:34.653928672Z"
    }
   },
   "outputs": [],
   "source": [
    "# Import necessary modules for machine learning tasks\n",
    "# from learntools.core import binder\n",
    "# binder.bind(globals())\n",
    "# from learntools.machine_learning.ex3 import *\n",
    "#\n",
    "# print(\"Setup Complete\")\n"
   ]
  },
  {
   "cell_type": "code",
   "execution_count": 4,
   "metadata": {
    "ExecuteTime": {
     "end_time": "2023-06-22T03:11:34.702133316Z",
     "start_time": "2023-06-22T03:11:34.654381209Z"
    }
   },
   "outputs": [],
   "source": [
    "\n",
    "# Set the directory path and read the image labels\n",
    "dir_name = '../../diabetic/Diabetic-Retinopathy-Detection/archive/resized_train_cropped/resized_train_cropped/'\n",
    "directory = os.fsencode(dir_name)\n",
    "\n",
    "\n",
    "train_Labels = pd.read_csv('../../diabetic/Diabetic-Retinopathy-Detection/archive/trainLabels_cropped.csv')\n",
    "labels = pd.read_csv('../../diabetic/Diabetic-Retinopathy-Detection/archive/trainLabels_cropped.csv', names=['level'])\n",
    "\n",
    "# Create a .csv file to store the calculated features for decision tree\n",
    "header = ['nameImg', 'meanR', 'meanG', 'meanB', 'devR', 'devG', 'devB', 'class']\n"
   ]
  },
  {
   "cell_type": "code",
   "execution_count": 5,
   "metadata": {
    "ExecuteTime": {
     "end_time": "2023-06-22T03:11:34.702447269Z",
     "start_time": "2023-06-22T03:11:34.701889047Z"
    }
   },
   "outputs": [],
   "source": [
    "# with open('./csv_features', 'w', encoding='UTF8') as f:\n",
    "#\n",
    "#     writer = csv.writer(f)\n",
    "#     writer.writerow(header)\n",
    "#     for file in os.listdir(directory):\n",
    "#         filename = os.fsdecode(file)\n",
    "#         filename_base = os.path.basename(filename)\n",
    "#         if filename_base.endswith('.jpeg'):\n",
    "#             index = train_Labels.index\n",
    "#             condition = train_Labels[\"image\"] == filename_base[:-5]\n",
    "#             indx = index[condition]\n",
    "#             classImg = train_Labels[\"level\"].loc[indx]\n",
    "#             level = classImg.tolist()\n",
    "#             img = cv.imread(dir_name+filename_base)\n",
    "#             norm_img = cv.imread(dir_name+filename)\n",
    "#             final_img = cv.normalize(img, norm_img, 0, 255, cv.NORM_MINMAX)\n",
    "#             means, dev = cv.meanStdDev(final_img)\n",
    "#             f1_0 = means[0]\n",
    "#             f1_1 = means[1]\n",
    "#             f1_2 = means[2]\n",
    "#             f2_0 = dev[0]\n",
    "#             f2_1 = dev[1]\n",
    "#             f2_2 = dev[2]\n",
    "#             data = [filename, *f1_0, *f1_1, *f1_2, *f2_0, *f2_1, *f2_2, *level]\n",
    "#             writer.writerow(data)\n",
    "#             continue\n",
    "#         else:\n",
    "#             continue"
   ]
  },
  {
   "cell_type": "code",
   "execution_count": 6,
   "metadata": {
    "ExecuteTime": {
     "end_time": "2023-06-22T03:11:34.738296749Z",
     "start_time": "2023-06-22T03:11:34.702370907Z"
    }
   },
   "outputs": [
    {
     "data": {
      "text/plain": "            nameImg      meanR       meanG       meanB       devR       devG  \\\n0  17495_right.jpeg  58.662523   78.488593  106.789466  27.344116  36.864961   \n1  35236_right.jpeg  95.724635  155.751600  202.723910  41.507478  67.500360   \n2   37166_left.jpeg  80.217096   98.371383  139.890633  36.183454  46.520206   \n3   17299_left.jpeg  75.486000   85.920939  123.532742  47.423972  55.442443   \n4   27929_left.jpeg  50.077889   54.613454   75.822631  35.855830  40.926429   \n\n        devB  class  \n0  51.908253      1  \n1  88.042890      0  \n2  71.111794      0  \n3  75.762605      1  \n4  54.865710      0  ",
      "text/html": "<div>\n<style scoped>\n    .dataframe tbody tr th:only-of-type {\n        vertical-align: middle;\n    }\n\n    .dataframe tbody tr th {\n        vertical-align: top;\n    }\n\n    .dataframe thead th {\n        text-align: right;\n    }\n</style>\n<table border=\"1\" class=\"dataframe\">\n  <thead>\n    <tr style=\"text-align: right;\">\n      <th></th>\n      <th>nameImg</th>\n      <th>meanR</th>\n      <th>meanG</th>\n      <th>meanB</th>\n      <th>devR</th>\n      <th>devG</th>\n      <th>devB</th>\n      <th>class</th>\n    </tr>\n  </thead>\n  <tbody>\n    <tr>\n      <th>0</th>\n      <td>17495_right.jpeg</td>\n      <td>58.662523</td>\n      <td>78.488593</td>\n      <td>106.789466</td>\n      <td>27.344116</td>\n      <td>36.864961</td>\n      <td>51.908253</td>\n      <td>1</td>\n    </tr>\n    <tr>\n      <th>1</th>\n      <td>35236_right.jpeg</td>\n      <td>95.724635</td>\n      <td>155.751600</td>\n      <td>202.723910</td>\n      <td>41.507478</td>\n      <td>67.500360</td>\n      <td>88.042890</td>\n      <td>0</td>\n    </tr>\n    <tr>\n      <th>2</th>\n      <td>37166_left.jpeg</td>\n      <td>80.217096</td>\n      <td>98.371383</td>\n      <td>139.890633</td>\n      <td>36.183454</td>\n      <td>46.520206</td>\n      <td>71.111794</td>\n      <td>0</td>\n    </tr>\n    <tr>\n      <th>3</th>\n      <td>17299_left.jpeg</td>\n      <td>75.486000</td>\n      <td>85.920939</td>\n      <td>123.532742</td>\n      <td>47.423972</td>\n      <td>55.442443</td>\n      <td>75.762605</td>\n      <td>1</td>\n    </tr>\n    <tr>\n      <th>4</th>\n      <td>27929_left.jpeg</td>\n      <td>50.077889</td>\n      <td>54.613454</td>\n      <td>75.822631</td>\n      <td>35.855830</td>\n      <td>40.926429</td>\n      <td>54.865710</td>\n      <td>0</td>\n    </tr>\n  </tbody>\n</table>\n</div>"
     },
     "execution_count": 6,
     "metadata": {},
     "output_type": "execute_result"
    }
   ],
   "source": [
    "# Read the CSV file containing the calculated features\n",
    "csv_data = pd.read_csv('csv_features' )\n",
    "csv_data.head()"
   ]
  },
  {
   "cell_type": "code",
   "execution_count": 7,
   "metadata": {
    "ExecuteTime": {
     "end_time": "2023-06-22T03:11:34.802067110Z",
     "start_time": "2023-06-22T03:11:34.737807677Z"
    }
   },
   "outputs": [],
   "source": [
    "# Define the features (mean and standard deviation) and the target variable\n",
    "features = ['meanR', 'meanG', 'meanB', 'devR', 'devG', 'devB']\n",
    "X = csv_data[features]\n",
    "y = csv_data['class']\n"
   ]
  },
  {
   "cell_type": "code",
   "execution_count": 8,
   "metadata": {
    "ExecuteTime": {
     "end_time": "2023-06-22T03:11:35.262143641Z",
     "start_time": "2023-06-22T03:11:34.777940232Z"
    }
   },
   "outputs": [
    {
     "name": "stdout",
     "output_type": "stream",
     "text": [
      "Mean Absolute Error: 0.7983365614674718\n"
     ]
    }
   ],
   "source": [
    "from sklearn.tree import DecisionTreeClassifier\n",
    "from sklearn.model_selection import train_test_split\n",
    "from sklearn.metrics import mean_absolute_error, confusion_matrix\n",
    "\n",
    "# Split the data into training and validation sets\n",
    "train_X, val_X, train_y, val_y = train_test_split(X, y, random_state=0)\n",
    "\n",
    "# Create a decision tree classifier\n",
    "decision_tree_model = DecisionTreeClassifier()\n",
    "\n",
    "# Fit the model on the training data\n",
    "decision_tree_model.fit(train_X, train_y)\n",
    "\n",
    "# Make predictions on the validation set\n",
    "val_predictions = decision_tree_model.predict(val_X)\n",
    "\n",
    "\n",
    "confusion_matrix_labeled = confusion_matrix(val_y, val_predictions)\n",
    "\n",
    "\n",
    "\n",
    "# Calculate mean absolute error (MAE)\n",
    "mae = mean_absolute_error(val_y, val_predictions)\n",
    "print(\"Mean Absolute Error:\", mae)\n"
   ]
  },
  {
   "cell_type": "code",
   "execution_count": 10,
   "metadata": {
    "ExecuteTime": {
     "end_time": "2023-06-22T03:11:44.812424210Z",
     "start_time": "2023-06-22T03:11:44.802986141Z"
    }
   },
   "outputs": [
    {
     "ename": "ModuleNotFoundError",
     "evalue": "No module named 'seaborn'",
     "output_type": "error",
     "traceback": [
      "\u001B[0;31m---------------------------------------------------------------------------\u001B[0m",
      "\u001B[0;31mModuleNotFoundError\u001B[0m                       Traceback (most recent call last)",
      "Cell \u001B[0;32mIn[10], line 2\u001B[0m\n\u001B[1;32m      1\u001B[0m \u001B[38;5;28;01mimport\u001B[39;00m \u001B[38;5;21;01mmatplotlib\u001B[39;00m\u001B[38;5;21;01m.\u001B[39;00m\u001B[38;5;21;01mpyplot\u001B[39;00m \u001B[38;5;28;01mas\u001B[39;00m \u001B[38;5;21;01mplt\u001B[39;00m\n\u001B[0;32m----> 2\u001B[0m \u001B[38;5;28;01mimport\u001B[39;00m \u001B[38;5;21;01mseaborn\u001B[39;00m \u001B[38;5;28;01mas\u001B[39;00m \u001B[38;5;21;01msns\u001B[39;00m\n\u001B[1;32m      4\u001B[0m \u001B[38;5;66;03m# Plot the confusion matrix for labeled data:\u001B[39;00m\n\u001B[1;32m      5\u001B[0m plt\u001B[38;5;241m.\u001B[39mfigure(figsize\u001B[38;5;241m=\u001B[39m(\u001B[38;5;241m8\u001B[39m, \u001B[38;5;241m6\u001B[39m))\n",
      "\u001B[0;31mModuleNotFoundError\u001B[0m: No module named 'seaborn'"
     ]
    }
   ],
   "source": [
    "import matplotlib.pyplot as plt\n",
    "import seaborn as sns\n",
    "\n",
    "# Plot the confusion matrix for labeled data:\n",
    "plt.figure(figsize=(8, 6))\n",
    "sns.heatmap(confusion_matrix_labeled, annot=True, cmap='Blues', fmt='d')\n",
    "plt.title('Confusion Matrix')\n",
    "plt.xlabel('Predicted Values')\n",
    "plt.ylabel('True Values')\n",
    "plt.show()\n"
   ]
  },
  {
   "cell_type": "code",
   "execution_count": null,
   "metadata": {},
   "outputs": [],
   "source": [
    "# Print actual and predicted values for the first 10 samples\n",
    "print(val_y[:10])\n",
    "print(val_predictions[:10])"
   ]
  },
  {
   "cell_type": "code",
   "execution_count": null,
   "metadata": {},
   "outputs": [],
   "source": [
    "\n",
    "# Plot a histogram of the predicted values:\n",
    "plt.figure(figsize=(8, 6))\n",
    "plt.hist(val_predictions, bins=len(np.unique(y)), edgecolor='black', alpha=0.75)\n",
    "plt.title('Histogram of Predicted Values')\n",
    "plt.xlabel('Predicted Values')\n",
    "plt.ylabel('Count')\n",
    "plt.show()\n"
   ]
  },
  {
   "cell_type": "code",
   "execution_count": null,
   "metadata": {},
   "outputs": [],
   "source": [
    "# Calculate errors (modify to assign 1 or 0)\n",
    "errors = np.where(val_predictions != val_y, 1, 0)\n",
    "\n",
    "# Calculate mean absolute percentage error (MAPE)\n",
    "mape = 100 * (errors / val_y)\n",
    "\n",
    "# Remove NaN and inf values\n",
    "mape_filtered = mape[np.isfinite(mape)]\n",
    "\n",
    "# Calculate accuracy\n",
    "accuracy = 100 - np.mean(mape_filtered)\n",
    "\n",
    "print('Accuracy:', round(accuracy, 2), '%.')"
   ]
  },
  {
   "cell_type": "code",
   "execution_count": null,
   "metadata": {},
   "outputs": [],
   "source": [
    "# Calculate the model's score on the training and validation sets\n",
    "print (decision_tree_model.score(train_X, train_y))\n",
    "print(decision_tree_model.score(val_X, val_y))"
   ]
  },
  {
   "cell_type": "code",
   "execution_count": null,
   "metadata": {},
   "outputs": [],
   "source": [
    "# Create a new CSV file to store the features of a test image\n",
    "with open('./testImage_features', 'w', encoding='UTF8') as f:\n",
    "    writer = csv.writer(f)\n",
    "    writer.writerow(features)\n",
    "\n",
    "    # Read and normalize a test image\n",
    "    img = cv.imread(dir_name+'10003_left.jpeg')\n",
    "    norm_img = img\n",
    "    final_img = cv.normalize(img, norm_img, 0, 255, cv.NORM_MINMAX)\n",
    "\n",
    "    # Calculate the features for the test image\n",
    "    means, dev = cv.meanStdDev(final_img)\n",
    "    data = [*means[0], *means[1], *means[2], *dev[0], *dev[1], *dev[2]]\n",
    "    writer.writerow(data)"
   ]
  },
  {
   "cell_type": "code",
   "execution_count": null,
   "metadata": {},
   "outputs": [],
   "source": [
    "# Read the features of the test image from the CSV file\n",
    "csv_data = pd.read_csv('./testImage_features' )\n",
    "X = csv_data[features]"
   ]
  },
  {
   "cell_type": "code",
   "execution_count": null,
   "metadata": {},
   "outputs": [],
   "source": [
    "# Make predictions on the test image\n",
    "val_predictions = decision_tree_model.predict(X)\n",
    "print('Level of image: ' + str(val_predictions))"
   ]
  },
  {
   "cell_type": "code",
   "execution_count": null,
   "metadata": {},
   "outputs": [],
   "source": [
    "from sklearn.model_selection import GridSearchCV\n",
    "# Perform a grid search to find the best parameters for the decision tree model\n",
    "param_grid = {'max_depth': [25,50,75,99]}\n",
    "grid = GridSearchCV(decision_tree_model, param_grid=param_grid, cv=5)\n",
    "grid.fit(train_X, train_y)\n",
    "\n",
    "print(f\"Best parameters: {grid.best_params_}\")\n",
    "print(f\"Best cross-validation score: {grid.best_score_:.2f}\")\n"
   ]
  },
  {
   "cell_type": "code",
   "execution_count": null,
   "metadata": {},
   "outputs": [],
   "source": [
    "# plot a line graph of the mean cross-validation scores for each max_depth value\n",
    "max_depth_values = [25,50,75,99]\n",
    "mean_scores = grid.cv_results_['mean_test_score']\n",
    "\n",
    "plt.figure(figsize=(8, 6))\n",
    "plt.plot(max_depth_values, mean_scores, marker='o')\n",
    "plt.title('Mean Cross-Validation Score vs. max_depth')\n",
    "plt.xlabel('max_depth')\n",
    "plt.ylabel('Mean Cross-Validation Score')\n",
    "plt.xticks(max_depth_values)\n",
    "plt.grid(True)\n",
    "plt.show()"
   ]
  },
  {
   "cell_type": "code",
   "execution_count": null,
   "metadata": {},
   "outputs": [],
   "source": []
  },
  {
   "cell_type": "code",
   "execution_count": null,
   "metadata": {},
   "outputs": [],
   "source": []
  }
 ],
 "metadata": {
  "kernelspec": {
   "display_name": "Python 3 (ipykernel)",
   "language": "python",
   "name": "python3"
  },
  "language_info": {
   "codemirror_mode": {
    "name": "ipython",
    "version": 3
   },
   "file_extension": ".py",
   "mimetype": "text/x-python",
   "name": "python",
   "nbconvert_exporter": "python",
   "pygments_lexer": "ipython3",
   "version": "3.11.2"
  }
 },
 "nbformat": 4,
 "nbformat_minor": 1
}
