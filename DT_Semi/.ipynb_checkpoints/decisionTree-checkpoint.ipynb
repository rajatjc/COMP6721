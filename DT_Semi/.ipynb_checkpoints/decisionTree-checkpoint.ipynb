{
 "cells": [
  {
   "cell_type": "code",
   "execution_count": 1,
   "metadata": {
    "ExecuteTime": {
     "end_time": "2023-06-20T21:46:44.079754088Z",
     "start_time": "2023-06-20T21:46:44.032230860Z"
    }
   },
   "outputs": [],
   "source": [
    "import numpy as np\n",
    "import pandas as pd\n",
    "import os"
   ]
  },
  {
   "cell_type": "code",
   "execution_count": 2,
   "metadata": {
    "ExecuteTime": {
     "end_time": "2023-06-20T21:46:44.080822603Z",
     "start_time": "2023-06-20T21:46:44.079950344Z"
    }
   },
   "outputs": [],
   "source": [
    "file_path_label = '../../diabetic/Diabetic-Retinopathy-Detection/archive/trainLabels_cropped.csv'"
   ]
  },
  {
   "cell_type": "code",
   "execution_count": 3,
   "metadata": {
    "ExecuteTime": {
     "end_time": "2023-06-20T21:46:44.081181094Z",
     "start_time": "2023-06-20T21:46:44.080193678Z"
    }
   },
   "outputs": [
    {
     "name": "stdout",
     "output_type": "stream",
     "text": [
      "Setup Complete\n"
     ]
    }
   ],
   "source": [
    "home_data_label = pd.read_csv(file_path_label)\n",
    "from learntools.core import binder\n",
    "binder.bind(globals())\n",
    "from learntools.machine_learning.ex3 import *\n",
    "\n",
    "print(\"Setup Complete\")"
   ]
  },
  {
   "cell_type": "code",
   "execution_count": 4,
   "metadata": {
    "ExecuteTime": {
     "end_time": "2023-06-20T21:46:44.137121560Z",
     "start_time": "2023-06-20T21:46:44.080602232Z"
    }
   },
   "outputs": [],
   "source": [
    "import csv\n",
    "import cv2 as cv\n",
    "#create a .csv file which contains the features used for the descision tree\n",
    "# calculate features:\n",
    "header = ['nameImg', 'meanR', 'meanG', 'meanB', 'devR', 'devG', 'devB', 'class']\n",
    "# folder with image data\n",
    "dir_name = '../../diabetic/Diabetic-Retinopathy-Detection/archive/resized_train_cropped/resized_train_cropped/'\n",
    "directory = os.fsencode(dir_name)\n",
    "train_Labels = pd.read_csv('../../diabetic/Diabetic-Retinopathy-Detection/archive/trainLabels_cropped.csv')\n",
    "labels = pd.read_csv('../../diabetic/Diabetic-Retinopathy-Detection/archive/trainLabels_cropped.csv', names=['level'])"
   ]
  },
  {
   "cell_type": "code",
   "execution_count": null,
   "metadata": {
    "ExecuteTime": {
     "end_time": "2023-06-20T21:55:04.705728377Z",
     "start_time": "2023-06-20T21:46:44.118157257Z"
    }
   },
   "outputs": [],
   "source": [
    "with open('./csv_features', 'w', encoding='UTF8') as f:\n",
    "    writer = csv.writer(f)\n",
    "    writer.writerow(header)\n",
    "    for file in os.listdir(directory):\n",
    "        filename = os.fsdecode(file)\n",
    "        filename_base = os.path.basename(filename)\n",
    "        if filename_base.endswith('.jpeg'):\n",
    "            index = train_Labels.index\n",
    "            condition = train_Labels[\"image\"] == filename_base[:-5]\n",
    "            indx = index[condition]\n",
    "            classImg = train_Labels[\"level\"].loc[indx]\n",
    "            level = classImg.tolist()\n",
    "            img = cv.imread(dir_name+filename_base)\n",
    "            norm_img = cv.imread(dir_name+filename)\n",
    "            final_img = cv.normalize(img, norm_img, 0, 255, cv.NORM_MINMAX)\n",
    "            means, dev = cv.meanStdDev(final_img)\n",
    "            f1_0 = means[0]\n",
    "            f1_1 = means[1]\n",
    "            f1_2 = means[2]\n",
    "            f2_0 = dev[0]\n",
    "            f2_1 = dev[1]\n",
    "            f2_2 = dev[2]\n",
    "            data = [filename, *f1_0, *f1_1, *f1_2, *f2_0, *f2_1, *f2_2, *level]\n",
    "            writer.writerow(data)\n",
    "            continue\n",
    "        else:\n",
    "            continue"
   ]
  },
  {
   "cell_type": "code",
   "execution_count": null,
   "metadata": {},
   "outputs": [],
   "source": [
    "csv_data = pd.read_csv('csv_features' )\n",
    "csv_data.head()"
   ]
  },
  {
   "cell_type": "code",
   "execution_count": null,
   "metadata": {},
   "outputs": [],
   "source": [
    "features = ['meanR', 'meanG', 'meanB', 'devR', 'devG', 'devB']\n",
    "X = csv_data[features]\n",
    "\n",
    "y = csv_data['class']"
   ]
  },
  {
   "cell_type": "code",
   "execution_count": null,
   "metadata": {},
   "outputs": [],
   "source": [
    "from sklearn.tree import DecisionTreeClassifier\n",
    "from sklearn.model_selection import train_test_split\n",
    "from sklearn.metrics import mean_absolute_error\n",
    "\n",
    "#split data\n",
    "train_X, val_X, train_y, val_y = train_test_split(X, y, random_state=0)\n",
    "\n",
    "\n",
    "decision_tree_model = DecisionTreeClassifier()\n",
    "\n",
    "\n",
    "decision_tree_model.fit(train_X, train_y)\n",
    "\n",
    "val_predictions = decision_tree_model.predict(val_X)\n",
    "\n",
    "mae = mean_absolute_error(val_y, val_predictions)\n",
    "print(\"Mean Absolute Error:\", mae)\n"
   ]
  },
  {
   "cell_type": "code",
   "execution_count": null,
   "metadata": {},
   "outputs": [],
   "source": [
    "print(val_y[:10])\n",
    "print(val_predictions[:10])"
   ]
  },
  {
   "cell_type": "code",
   "execution_count": null,
   "metadata": {},
   "outputs": [],
   "source": [
    "\n",
    "errors = abs(val_predictions - val_y)\n",
    "print (errors)\n",
    "\n",
    "mape = 100 * (errors / val_y)\n",
    "\n",
    "accuracy = 100 - np.mean(mape)\n",
    "print('Accuracy:', round(accuracy, 2), '%.')"
   ]
  },
  {
   "cell_type": "code",
   "execution_count": null,
   "metadata": {},
   "outputs": [],
   "source": [
    "print (decision_tree_model.score(train_X, train_y))\n",
    "print(decision_tree_model.score(val_X, val_y))"
   ]
  },
  {
   "cell_type": "code",
   "execution_count": null,
   "metadata": {},
   "outputs": [],
   "source": [
    "import cv2 as cv\n",
    "import csv\n",
    "\n",
    "features = ['meanR', 'meanG', 'meanB', 'devR', 'devG', 'devB']\n",
    "\n",
    "with open('./testImage_features', 'w', encoding='UTF8') as f:\n",
    "    writer = csv.writer(f)\n",
    "    writer.writerow(features)\n",
    "\n",
    "    dir_name = 'archive/resized_train_cropped/resized_train_cropped/'\n",
    "    img = cv.imread(dir_name+'10003_left.jpeg')\n",
    "    norm_img = img\n",
    "    final_img = cv.normalize(img, norm_img, 0, 255, cv.NORM_MINMAX)\n",
    "    means, dev = cv.meanStdDev(final_img)\n",
    "    data = [*means[0], *means[1], *means[2], *dev[0], *dev[1], *dev[2]]\n",
    "    writer.writerow(data)\n",
    "\n",
    "\n",
    "csv_data = pd.read_csv('./testImage_features' )\n",
    "X = csv_data[features]\n",
    "val_predictions = decision_tree_model.predict(X)\n",
    "print('level of image: ' + str(val_predictions))"
   ]
  },
  {
   "cell_type": "code",
   "execution_count": null,
   "metadata": {},
   "outputs": [],
   "source": [
    "from sklearn.model_selection import GridSearchCV\n",
    "param_grid = {'max_depth': [73, 75, 77, 79]}\n",
    "grid = GridSearchCV(decision_tree_model, param_grid=param_grid, cv=5)\n",
    "grid.fit(train_X, train_y)\n",
    "\n",
    "print(f\"Best parameters: {grid.best_params_}\")\n",
    "print(f\"Best cross-validation score: {grid.best_score_:.2f}\")\n"
   ]
  },
  {
   "cell_type": "code",
   "execution_count": null,
   "metadata": {},
   "outputs": [],
   "source": []
  }
 ],
 "metadata": {
  "kernelspec": {
   "display_name": "Python 3 (ipykernel)",
   "language": "python",
   "name": "python3"
  },
  "language_info": {
   "codemirror_mode": {
    "name": "ipython",
    "version": 3
   },
   "file_extension": ".py",
   "mimetype": "text/x-python",
   "name": "python",
   "nbconvert_exporter": "python",
   "pygments_lexer": "ipython3",
   "version": "3.11.2"
  }
 },
 "nbformat": 4,
 "nbformat_minor": 1
}
