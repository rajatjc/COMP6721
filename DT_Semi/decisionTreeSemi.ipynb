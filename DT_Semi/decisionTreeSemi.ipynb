{
 "cells": [
  {
   "cell_type": "code",
   "execution_count": 40,
   "metadata": {
    "ExecuteTime": {
     "end_time": "2023-06-20T22:40:32.842128276Z",
     "start_time": "2023-06-20T22:40:32.823309714Z"
    }
   },
   "outputs": [],
   "source": [
    "import numpy as np\n",
    "import pandas as pd\n",
    "import os\n",
    "import csv\n",
    "import cv2 as cv"
   ]
  },
  {
   "cell_type": "code",
   "execution_count": 41,
   "metadata": {
    "ExecuteTime": {
     "end_time": "2023-06-20T22:40:32.859738164Z",
     "start_time": "2023-06-20T22:40:32.843573358Z"
    }
   },
   "outputs": [],
   "source": [
    "# Read the file containing image labels\n",
    "file_path_label = 'C:/VinterILand/Files/StudyMat/Current/AI/Project/archive/trainLabels_cropped.csv'\n",
    "home_data_label = pd.read_csv(file_path_label)\n"
   ]
  },
  {
   "cell_type": "code",
   "execution_count": 43,
   "metadata": {
    "ExecuteTime": {
     "end_time": "2023-06-20T22:41:21.474673104Z",
     "start_time": "2023-06-20T22:41:21.421730425Z"
    }
   },
   "outputs": [],
   "source": [
    "\n",
    "# Set the directory path and read the image labels\n",
    "dir_name = 'C:/VinterILand/Files/StudyMat/Current/AI/Project/archive/resized_train_cropped/resized_train_cropped/'\n",
    "directory = os.fsencode(dir_name)\n",
    "\n",
    "\n",
    "train_Labels = pd.read_csv('C:/VinterILand/Files/StudyMat/Current/AI/Project/archive/trainLabels_cropped.csv')\n",
    "labels = pd.read_csv('C:/VinterILand/Files/StudyMat/Current/AI/Project/archive/trainLabels_cropped.csv', names=['level'])\n",
    "\n",
    "# Create a .csv file to store the calculated features for decision tree\n",
    "header = ['nameImg', 'meanR', 'meanG', 'meanB', 'devR', 'devG', 'devB', 'class']\n"
   ]
  },
  {
   "cell_type": "code",
   "execution_count": 44,
   "metadata": {
    "ExecuteTime": {
     "end_time": "2023-06-20T22:41:25.828946088Z",
     "start_time": "2023-06-20T22:41:25.826390761Z"
    }
   },
   "outputs": [],
   "source": [
    "with open('./csv_features', 'w', encoding='UTF8') as f:\n",
    "\n",
    "    writer = csv.writer(f)\n",
    "    writer.writerow(header)\n",
    "    for file in os.listdir(directory):\n",
    "        filename = os.fsdecode(file)\n",
    "        filename_base = os.path.basename(filename)\n",
    "        if filename_base.endswith('.jpeg'):\n",
    "            index = train_Labels.index\n",
    "            condition = train_Labels[\"image\"] == filename_base[:-5]\n",
    "            indx = index[condition]\n",
    "            classImg = train_Labels[\"level\"].loc[indx]\n",
    "            level = classImg.tolist()\n",
    "            img = cv.imread(dir_name+filename_base)\n",
    "            norm_img = cv.imread(dir_name+filename)\n",
    "            final_img = cv.normalize(img, norm_img, 0, 255, cv.NORM_MINMAX)\n",
    "            means, dev = cv.meanStdDev(final_img)\n",
    "            f1_0 = means[0]\n",
    "            f1_1 = means[1]\n",
    "            f1_2 = means[2]\n",
    "            f2_0 = dev[0]\n",
    "            f2_1 = dev[1]\n",
    "            f2_2 = dev[2]\n",
    "            data = [filename, *f1_0, *f1_1, *f1_2, *f2_0, *f2_1, *f2_2, *level]\n",
    "            writer.writerow(data)\n",
    "            continue\n",
    "        else:\n",
    "            continue"
   ]
  },
  {
   "cell_type": "code",
   "execution_count": 45,
   "metadata": {
    "ExecuteTime": {
     "end_time": "2023-06-20T22:41:34.337350992Z",
     "start_time": "2023-06-20T22:41:34.268344812Z"
    }
   },
   "outputs": [
    {
     "data": {
      "text/html": [
       "<div>\n",
       "<style scoped>\n",
       "    .dataframe tbody tr th:only-of-type {\n",
       "        vertical-align: middle;\n",
       "    }\n",
       "\n",
       "    .dataframe tbody tr th {\n",
       "        vertical-align: top;\n",
       "    }\n",
       "\n",
       "    .dataframe thead th {\n",
       "        text-align: right;\n",
       "    }\n",
       "</style>\n",
       "<table border=\"1\" class=\"dataframe\">\n",
       "  <thead>\n",
       "    <tr style=\"text-align: right;\">\n",
       "      <th></th>\n",
       "      <th>nameImg</th>\n",
       "      <th>meanR</th>\n",
       "      <th>meanG</th>\n",
       "      <th>meanB</th>\n",
       "      <th>devR</th>\n",
       "      <th>devG</th>\n",
       "      <th>devB</th>\n",
       "      <th>class</th>\n",
       "    </tr>\n",
       "  </thead>\n",
       "  <tbody>\n",
       "    <tr>\n",
       "      <th>0</th>\n",
       "      <td>10003_left.jpeg</td>\n",
       "      <td>70.469093</td>\n",
       "      <td>85.899770</td>\n",
       "      <td>104.938448</td>\n",
       "      <td>44.330996</td>\n",
       "      <td>55.886613</td>\n",
       "      <td>67.852609</td>\n",
       "      <td>0</td>\n",
       "    </tr>\n",
       "    <tr>\n",
       "      <th>1</th>\n",
       "      <td>10003_right.jpeg</td>\n",
       "      <td>73.200195</td>\n",
       "      <td>89.763735</td>\n",
       "      <td>110.117472</td>\n",
       "      <td>46.435583</td>\n",
       "      <td>58.517427</td>\n",
       "      <td>71.347122</td>\n",
       "      <td>0</td>\n",
       "    </tr>\n",
       "    <tr>\n",
       "      <th>2</th>\n",
       "      <td>10007_left.jpeg</td>\n",
       "      <td>72.073061</td>\n",
       "      <td>92.022150</td>\n",
       "      <td>90.303785</td>\n",
       "      <td>44.341474</td>\n",
       "      <td>56.717783</td>\n",
       "      <td>55.590012</td>\n",
       "      <td>0</td>\n",
       "    </tr>\n",
       "    <tr>\n",
       "      <th>3</th>\n",
       "      <td>10007_right.jpeg</td>\n",
       "      <td>64.937254</td>\n",
       "      <td>87.538883</td>\n",
       "      <td>89.420093</td>\n",
       "      <td>38.538292</td>\n",
       "      <td>53.817290</td>\n",
       "      <td>55.585351</td>\n",
       "      <td>0</td>\n",
       "    </tr>\n",
       "    <tr>\n",
       "      <th>4</th>\n",
       "      <td>10009_left.jpeg</td>\n",
       "      <td>71.700989</td>\n",
       "      <td>89.570619</td>\n",
       "      <td>109.586108</td>\n",
       "      <td>34.372742</td>\n",
       "      <td>43.133923</td>\n",
       "      <td>54.769112</td>\n",
       "      <td>0</td>\n",
       "    </tr>\n",
       "  </tbody>\n",
       "</table>\n",
       "</div>"
      ],
      "text/plain": [
       "            nameImg      meanR      meanG       meanB       devR       devG  \\\n",
       "0   10003_left.jpeg  70.469093  85.899770  104.938448  44.330996  55.886613   \n",
       "1  10003_right.jpeg  73.200195  89.763735  110.117472  46.435583  58.517427   \n",
       "2   10007_left.jpeg  72.073061  92.022150   90.303785  44.341474  56.717783   \n",
       "3  10007_right.jpeg  64.937254  87.538883   89.420093  38.538292  53.817290   \n",
       "4   10009_left.jpeg  71.700989  89.570619  109.586108  34.372742  43.133923   \n",
       "\n",
       "        devB  class  \n",
       "0  67.852609      0  \n",
       "1  71.347122      0  \n",
       "2  55.590012      0  \n",
       "3  55.585351      0  \n",
       "4  54.769112      0  "
      ]
     },
     "execution_count": 45,
     "metadata": {},
     "output_type": "execute_result"
    }
   ],
   "source": [
    "# Read the CSV file containing the calculated features\n",
    "csv_data = pd.read_csv('csv_features' )\n",
    "csv_data.head()"
   ]
  },
  {
   "cell_type": "code",
   "execution_count": 46,
   "metadata": {
    "ExecuteTime": {
     "end_time": "2023-06-20T22:41:40.674383896Z",
     "start_time": "2023-06-20T22:41:40.672669392Z"
    }
   },
   "outputs": [],
   "source": [
    "# Define the features (mean and standard deviation) and the target variable\n",
    "features = ['meanR', 'meanG', 'meanB', 'devR', 'devG', 'devB']\n",
    "X = csv_data[features]\n",
    "y = csv_data['class']\n"
   ]
  }
 ],
 "metadata": {
  "kernelspec": {
   "display_name": "Python 3 (ipykernel)",
   "language": "python",
   "name": "python3"
  },
  "language_info": {
   "codemirror_mode": {
    "name": "ipython",
    "version": 3
   },
   "file_extension": ".py",
   "mimetype": "text/x-python",
   "name": "python",
   "nbconvert_exporter": "python",
   "pygments_lexer": "ipython3",
   "version": "3.11.3"
  }
 },
 "nbformat": 4,
 "nbformat_minor": 1
}
